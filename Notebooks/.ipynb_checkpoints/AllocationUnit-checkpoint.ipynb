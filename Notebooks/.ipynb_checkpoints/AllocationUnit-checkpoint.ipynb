{
 "cells": [
  {
   "cell_type": "code",
   "execution_count": null,
   "metadata": {},
   "outputs": [],
   "source": [
    "import pandas as pd\n",
    "import numpy as np\n",
    "\n",
    "import seaborn as sns\n",
    "import networkx as nx\n",
    "import matplotlib.pyplot as plt\n",
    "\n",
    "from matplotlib.pyplot import pie, axis, show\n",
    "from IPython.display import display, HTML\n",
    "\n",
    "%matplotlib inline\n",
    "%config InlineBackend.figure_format = 'svg'\n",
    "plt.rcParams['mathtext.fontset'] = 'cm'"
   ]
  },
  {
   "cell_type": "markdown",
   "metadata": {},
   "source": [
    "# Load dataset"
   ]
  },
  {
   "cell_type": "code",
   "execution_count": null,
   "metadata": {},
   "outputs": [],
   "source": [
    "staff = pd.read_pickle('staff')\n",
    "unitsS1 = pd.read_pickle('unitsS1')\n",
    "unitsS2 = pd.read_pickle('unitsS2')\n",
    "unitsOLE = pd.read_pickle('unitsOLE')\n",
    "unitsHonors = pd.read_pickle('unitsHonors')"
   ]
  },
  {
   "cell_type": "markdown",
   "metadata": {},
   "source": [
    "# Definitions"
   ]
  },
  {
   "cell_type": "code",
   "execution_count": null,
   "metadata": {},
   "outputs": [],
   "source": [
    "def getUnit(code=None,staff=staff,unitsS1=unitsS1,unitsS2=unitsS2,\n",
    "             unitsOLE=unitsOLE,unitsHonors=unitsHonors):\n",
    "    \n",
    "    viewunit = unitsS1[unitsS1['code']==code] \n",
    "    lvl = 'S.1'\n",
    "    if len(viewunit) == 0:\n",
    "        viewunit = unitsS2[unitsS2['code']==code] \n",
    "        lvl = 'S.2'\n",
    "    if len(viewunit) == 0:\n",
    "        viewunit = unitsOLE[unitsOLE['code']==code] \n",
    "        lvl = 'OLE'\n",
    "    if len(viewunit) == 0:\n",
    "        viewunit = unitsHonors[unitsHonors['code']==code]\n",
    "        lvl = 'Hon' \n",
    "    if len(viewunit) == 0:\n",
    "        print('Hum... the requested unit is not in the database !')\n",
    "        return\n",
    "\n",
    "    sumload = 0.\n",
    "    load = viewunit['load'].values[0]\n",
    "    description = viewunit['description'].values[0]\n",
    "    coordinator = viewunit['coordinator'].values[0]\n",
    "    \n",
    "    unit = pd.DataFrame(columns=['code','semester','coordinator',\n",
    "                                 'staff','weight','cumload','description',\n",
    "                                 'unitload'])\n",
    "    \n",
    "    for k in range(len(staff)):\n",
    "        \n",
    "        name = staff['name'].values[k]\n",
    "        listunits = staff['units'].values[k]\n",
    "        listperc = staff['perc'].values[k]\n",
    "        for p in range(len(listunits)):\n",
    "            if listunits[p] == code:\n",
    "                sumload += listperc[p]\n",
    "                unit = unit.append({'code':code,'semester':lvl,'unitload':load,'staff':name,\n",
    "                                    'description':description,'weight':listperc[p],\n",
    "                                    'cumload':sumload,'coordinator':coordinator}, \n",
    "                                      ignore_index=True)\n",
    "    \n",
    "    return unit\n",
    "\n",
    "def plotUnitGraph(df=None,code=None):\n",
    "    \n",
    "    G = nx.from_pandas_edgelist(df, 'code', 'staff', ['weight'])\n",
    "    pos = nx.circular_layout(G)\n",
    "\n",
    "    edges = G.edges()\n",
    "    weights = [G[u][v]['weight']*0.05 for u,v in edges]\n",
    "\n",
    "    plt.figure(1,figsize=(4,4)) \n",
    "    nx.draw_networkx_nodes(G,pos,\n",
    "                           node_color='k',\n",
    "                           node_size=4500)\n",
    "    \n",
    "    nx.draw_networkx_nodes(G,pos,\n",
    "                           node_color='#A0CBE2',\n",
    "                           node_size=4000)\n",
    "    \n",
    "    nx.draw_networkx_nodes(G,pos,nodelist=[code],\n",
    "                           node_color='r',\n",
    "                           node_size=4000)\n",
    "\n",
    "    labels = nx.get_edge_attributes(G,'weight')\n",
    "\n",
    "    nx.draw_networkx_edges(G,pos,\n",
    "            width=weights, edge_cmap=plt.cm.Blues, with_labels=True)\n",
    "    nx.draw_networkx_edge_labels(G,pos,edge_labels=labels)\n",
    "    nx.draw_networkx_labels(G,pos,font_size=11)\n",
    "    plt.ylim(-1.5,1.5)\n",
    "    plt.axis('off')\n",
    "    plt.tight_layout()\n",
    "    plt.show()\n",
    "\n",
    "    return"
   ]
  },
  {
   "cell_type": "code",
   "execution_count": null,
   "metadata": {},
   "outputs": [],
   "source": [
    "def createGraph(units=None):\n",
    "    \n",
    "    tmp = units.copy()\n",
    "    tmp = tmp.rename(columns = {'weight':'staffweight'})\n",
    "    tmp = tmp.rename(columns = {'cumload':'weight'})\n",
    "    G = nx.from_pandas_edgelist(tmp, 'school', 'code', ['weight'])\n",
    "    \n",
    "    # Create first nodes representing the units\n",
    "    node_list = sorted(G.nodes())\n",
    "    val = filter(lambda a: a != 'GEOS', node_list)\n",
    "    angle = []\n",
    "    angle_dict = {}\n",
    "    n = len(val)\n",
    "    for i, node in zip(xrange(n),val):\n",
    "        theta = 2.*np.pi*i/n\n",
    "        angle.append((np.cos(theta)*0.75,np.sin(theta)*0.75))\n",
    "        angle_dict[node] = theta\n",
    "\n",
    "    pos = {}\n",
    "    for node_i, node in enumerate(val):\n",
    "        pos[node] = angle[node_i]\n",
    "    pos['GEOS'] = (0.0, 0.0)\n",
    "    \n",
    "    # Then the second ones corresponding to the staff\n",
    "    node_list2 = np.arange(len(val)*5)\n",
    "    angle2 = []\n",
    "    angle2_dict = {}\n",
    "    n = len(val)*5\n",
    "    for i, node in zip(xrange(n),node_list2):\n",
    "        theta = 2.*np.pi*i/n\n",
    "        angle2.append((np.cos(theta)*1.25,np.sin(theta)*1.25))\n",
    "        angle2_dict[node] = theta\n",
    "\n",
    "    pos2 = {}\n",
    "    for node_i, node in enumerate(node_list2):\n",
    "        pos2[node] = angle2[node_i]\n",
    "\n",
    "    # Define the position of the staff 'nodes'\n",
    "    p = len(val)*5-2\n",
    "    c = 0\n",
    "    pos3 = {}\n",
    "    staffname = {}\n",
    "    for k in range(len(val)):\n",
    "        df = getUnit(val[k])\n",
    "        count = df['staff'].count()\n",
    "        if count == 0:\n",
    "            id = [-1]\n",
    "        if count == 1:\n",
    "            id = [2]\n",
    "        if count == 2:\n",
    "            id = [1,3]\n",
    "        if count == 3:\n",
    "            id = [0,2,4]\n",
    "        if count == 4:\n",
    "            id = [0,1,2,3]\n",
    "        if count == 5:\n",
    "            id = [0,1,2,3,4]\n",
    "        if count > 5:\n",
    "            print(\"hoops! more than 5 lecturers in the following unit:\",val[k])\n",
    "        j = 0\n",
    "        for i in range(5):\n",
    "            if i in id:   \n",
    "                pos3[c] = pos2[p]\n",
    "                staffname[c] = df['staff'][j]\n",
    "                G.add_node(c,pos=pos2[p])\n",
    "                G.add_edge(val[k],c,weight=df['weight'][j])\n",
    "                j += 1\n",
    "                c += 1\n",
    "            if p == len(val)*5-1:\n",
    "                p = 0\n",
    "            else:\n",
    "                p += 1\n",
    "    totpos = pos.copy()\n",
    "    totpos.update(pos3)  \n",
    "    \n",
    "    labeldict = {}\n",
    "    for k in range(len(node_list)):\n",
    "        labeldict[node_list[k]] = node_list[k]\n",
    "    labeldict['GEOS'] = 'GEOS'\n",
    "\n",
    "    labeldict = {}\n",
    "    for k in range(len(node_list)):\n",
    "        labeldict[node_list[k]] = node_list[k]\n",
    "    labeldict['GEOS'] = 'GEOS'\n",
    "\n",
    "    pos4 = pos3.copy()\n",
    "    for key in pos4.keys():\n",
    "        pos4[key] = map(lambda x: x*1.08, pos4.get(key))\n",
    "        \n",
    "    return G,totpos,pos,pos4,val,staffname,labeldict\n",
    "\n",
    "def viewGraph(G, pos, unitpos, staffpos, nodelist, staffname, labeldict, figname=None):\n",
    "    \n",
    "    fig, ax = plt.subplots(1,figsize=(12,12)) \n",
    "\n",
    "    margin=0.33\n",
    "    fig.subplots_adjust(margin, margin, 1.-margin, 1.-margin)\n",
    "    ax.axis('equal')\n",
    "\n",
    "    # pos,unitpos,staffpos,nodelist,staffname\n",
    "\n",
    "    nx.draw_networkx_nodes(G,pos,\n",
    "                           node_color='k',\n",
    "                           node_size=150)\n",
    "    nx.draw_networkx_nodes(G,pos,\n",
    "                           node_color='#e05cab',\n",
    "                           node_size=140)\n",
    "    nx.draw_networkx_nodes(G,pos,nodelist=nodelist,\n",
    "                           node_color='k',\n",
    "                           node_size=2100)\n",
    "    nx.draw_networkx_nodes(G,pos,nodelist=nodelist,\n",
    "                           node_color='#5eed9a',\n",
    "                           node_size=2000)\n",
    "    nx.draw_networkx_nodes(G,pos,nodelist=['GEOS'],\n",
    "                           node_color='k',\n",
    "                           node_size=2500)\n",
    "    nx.draw_networkx_nodes(G,pos,nodelist=['GEOS'],\n",
    "                           node_color='#699ce0',\n",
    "                           node_size=2400)\n",
    "    edges = G.edges()\n",
    "\n",
    "    weights = [G[u][v]['weight']*0.03 for u,v in edges]\n",
    "    elabels = {(u, v): d[\"weight\"] for u, v, d in G.edges(data=True)}\n",
    "\n",
    "    nx.draw_networkx_edges(G, pos, width=weights, with_labels=True, ax=ax)\n",
    "    nx.draw_networkx_edge_labels(G, pos, edge_labels=elabels, font_size=7)\n",
    "    nx.draw_networkx_labels(G, unitpos, font_size=8, labels=labeldict)\n",
    "    nx.draw_networkx_labels(G, staffpos, font_size=8, labels=staffname)\n",
    "    plt.ylim(-1.5,1.5)\n",
    "    plt.axis('off')\n",
    "    plt.tight_layout()\n",
    "    if figname is not None:\n",
    "        fig.savefig(figname,dpi=400)\n",
    "    plt.show()\n",
    "    \n",
    "    return"
   ]
  },
  {
   "cell_type": "markdown",
   "metadata": {},
   "source": [
    "# Single unit allocation"
   ]
  },
  {
   "cell_type": "code",
   "execution_count": null,
   "metadata": {},
   "outputs": [],
   "source": [
    "code = 'MARS5004'\n",
    "df = getUnit(code)\n",
    "#print df['cumload'].max()\n",
    "display(HTML(df.to_html()))\n",
    "plotUnitGraph(df,code)"
   ]
  },
  {
   "cell_type": "markdown",
   "metadata": {},
   "source": [
    "# All units load\n",
    "\n",
    "Merge all units together"
   ]
  },
  {
   "cell_type": "code",
   "execution_count": null,
   "metadata": {},
   "outputs": [],
   "source": [
    "units1 = pd.DataFrame(columns=['school','code','staff','lvl','weight','cumload'])\n",
    "units2 = pd.DataFrame(columns=['school','code','staff','lvl','weight','cumload'])\n",
    "unitsO = pd.DataFrame(columns=['school','code','staff','lvl','weight','cumload'])\n",
    "unitsH = pd.DataFrame(columns=['school','code','staff','lvl','weight','cumload'])\n",
    "\n",
    "for k in range(len(unitsS1)):\n",
    "    code = unitsS1['code'][k]\n",
    "    df = getUnit(code)\n",
    "    for p in range(len(df)):\n",
    "        units1 = units1.append({'school':'GEOS','code':df['code'][p],\n",
    "                                    'staff':df['staff'][p],'lvl':'S.1','weight':df['weight'][p],\n",
    "                                    'cumload':df['cumload'][p]},ignore_index=True)\n",
    "for k in range(len(unitsS2)):\n",
    "    code = unitsS2['code'][k]\n",
    "    df = getUnit(code)\n",
    "    for p in range(len(df)):\n",
    "        units2 = units2.append({'school':'GEOS','code':df['code'][p],\n",
    "                                    'staff':df['staff'][p],'lvl':'S.2','weight':df['weight'][p],\n",
    "                                    'cumload':df['cumload'][p]},ignore_index=True)\n",
    "for k in range(len(unitsOLE)):\n",
    "    code = unitsOLE['code'][k]\n",
    "    df = getUnit(code)\n",
    "    for p in range(len(df)):\n",
    "        unitsO = unitsO.append({'school':'GEOS','code':df['code'][p],\n",
    "                                    'staff':df['staff'][p],'lvl':'OLE','weight':df['weight'][p],\n",
    "                                    'cumload':df['cumload'][p]},ignore_index=True)\n",
    "for k in range(len(unitsHonors)):\n",
    "    code = unitsHonors['code'][k]\n",
    "    df = getUnit(code)\n",
    "    for p in range(len(df)):\n",
    "        unitsH = unitsH.append({'school':'GEOS','code':df['code'][p],\n",
    "                                    'staff':df['staff'][p],'lvl':'Hon','weight':df['weight'][p],\n",
    "                                    'cumload':df['cumload'][p]},ignore_index=True)\n",
    "allunits = units1.append(units2,ignore_index=True)\n",
    "allunits = allunits.append(unitsO,ignore_index=True)\n",
    "allunits = allunits.append(unitsH,ignore_index=True)\n",
    "#display(HTML(allunits.to_html()))"
   ]
  },
  {
   "cell_type": "markdown",
   "metadata": {},
   "source": [
    "### Semester 1"
   ]
  },
  {
   "cell_type": "code",
   "execution_count": null,
   "metadata": {},
   "outputs": [],
   "source": [
    "G1, pos1, unitpos1, staffpos1, nodelist1, staffname1, labeldict1 = createGraph(units1)\n",
    "viewGraph(G1, pos1, unitpos1, staffpos1, nodelist1, staffname1, labeldict1, figname='semester1.pdf')"
   ]
  },
  {
   "cell_type": "markdown",
   "metadata": {},
   "source": [
    "### Semester 2"
   ]
  },
  {
   "cell_type": "code",
   "execution_count": null,
   "metadata": {},
   "outputs": [],
   "source": [
    "G2, pos2, unitpos2, staffpos2, nodelist2, staffname2, labeldict2 = createGraph(units2)\n",
    "viewGraph(G2, pos2, unitpos2, staffpos2, nodelist2, staffname2, labeldict2, figname='semester2.pdf')"
   ]
  },
  {
   "cell_type": "code",
   "execution_count": null,
   "metadata": {},
   "outputs": [],
   "source": [
    "# Need to update GEOS2121 AFNR5801 GEOS1002"
   ]
  },
  {
   "cell_type": "markdown",
   "metadata": {},
   "source": [
    "### Honours "
   ]
  },
  {
   "cell_type": "code",
   "execution_count": null,
   "metadata": {},
   "outputs": [],
   "source": [
    "G2, pos2, unitpos2, staffpos2, nodelist2, staffname2, labeldict2 = createGraph(unitsH)\n",
    "viewGraph(G2, pos2, unitpos2, staffpos2, nodelist2, staffname2, labeldict2)"
   ]
  },
  {
   "cell_type": "markdown",
   "metadata": {},
   "source": [
    "### OLEs"
   ]
  },
  {
   "cell_type": "code",
   "execution_count": null,
   "metadata": {},
   "outputs": [],
   "source": [
    "G2, pos2, unitpos2, staffpos2, nodelist2, staffname2, labeldict2 = createGraph(unitsO)\n",
    "viewGraph(G2, pos2, unitpos2, staffpos2, nodelist2, staffname2, labeldict2)"
   ]
  },
  {
   "cell_type": "markdown",
   "metadata": {},
   "source": [
    "### All units"
   ]
  },
  {
   "cell_type": "code",
   "execution_count": null,
   "metadata": {},
   "outputs": [],
   "source": [
    "def viewGraphAll(G, pos, unitpos, staffpos, nodelist, staffname, labeldict):\n",
    "    \n",
    "    fig, ax = plt.subplots(1,figsize=(16,16)) \n",
    "\n",
    "    margin=0.4\n",
    "    fig.subplots_adjust(margin, margin, 1.-margin, 1.-margin)\n",
    "    ax.axis('equal')\n",
    "\n",
    "    # pos,unitpos,staffpos,nodelist,staffname\n",
    "\n",
    "    nx.draw_networkx_nodes(G,pos,\n",
    "                           node_color='k',\n",
    "                           node_size=100)\n",
    "    nx.draw_networkx_nodes(G,pos,\n",
    "                           node_color='#ea6f27',\n",
    "                           node_size=90)\n",
    "    nx.draw_networkx_nodes(G,pos,nodelist=nodelist,\n",
    "                           node_color='k',\n",
    "                           node_size=1300)\n",
    "    nx.draw_networkx_nodes(G,pos,nodelist=nodelist,\n",
    "                           node_color='#268bea',\n",
    "                           node_size=1200)\n",
    "    nx.draw_networkx_nodes(G,pos,nodelist=['GEOS'],\n",
    "                           node_color='k',\n",
    "                           node_size=2500)\n",
    "    nx.draw_networkx_nodes(G,pos,nodelist=['GEOS'],\n",
    "                           node_color='#d325ea',\n",
    "                           node_size=2400)\n",
    "    edges = G.edges()\n",
    "\n",
    "    weights = [G[u][v]['weight']*0.03 for u,v in edges]\n",
    "    elabels = {(u, v): d[\"weight\"] for u, v, d in G.edges(data=True)}\n",
    "\n",
    "    nx.draw_networkx_edges(G, pos, width=weights, with_labels=True, ax=ax)\n",
    "    nx.draw_networkx_edge_labels(G, pos, edge_labels=elabels, font_size=7)\n",
    "    nx.draw_networkx_labels(G, unitpos, font_size=6, labels=labeldict)\n",
    "    nx.draw_networkx_labels(G, staffpos, font_size=6, labels=staffname)\n",
    "    plt.ylim(-1.5,1.5)\n",
    "    plt.axis('off')\n",
    "    plt.tight_layout()\n",
    "    fig.savefig('school.pdf',dpi=300)\n",
    "    plt.show()\n",
    "    return"
   ]
  },
  {
   "cell_type": "code",
   "execution_count": null,
   "metadata": {},
   "outputs": [],
   "source": [
    "G2, pos2, unitpos2, staffpos2, nodelist2, staffname2, labeldict2 = createGraph(allunits)"
   ]
  },
  {
   "cell_type": "code",
   "execution_count": null,
   "metadata": {},
   "outputs": [],
   "source": [
    "viewGraphAll(G2, pos2, unitpos2, staffpos2, nodelist2, staffname2, labeldict2)"
   ]
  },
  {
   "cell_type": "code",
   "execution_count": null,
   "metadata": {},
   "outputs": [],
   "source": []
  }
 ],
 "metadata": {
  "kernelspec": {
   "display_name": "Python 2",
   "language": "python",
   "name": "python2"
  },
  "language_info": {
   "codemirror_mode": {
    "name": "ipython",
    "version": 2
   },
   "file_extension": ".py",
   "mimetype": "text/x-python",
   "name": "python",
   "nbconvert_exporter": "python",
   "pygments_lexer": "ipython2",
   "version": "2.7.12"
  }
 },
 "nbformat": 4,
 "nbformat_minor": 2
}
