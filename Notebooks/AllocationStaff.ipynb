{
 "cells": [
  {
   "cell_type": "markdown",
   "metadata": {},
   "source": [
    "# Staff allocation\n",
    "\n",
    "In this notebook we define different functions to **query staff allocation** and plot **teaching distribution** in the School.\n",
    "\n",
    "**Table of content:**\n",
    "\n",
    "+ [**1. Load dataset**](#load)\n",
    "+ [**2. Individual staff**](#def)\n",
    "+ [**3. All staff**](#all)\n",
    "    + [**3a. Units taught per year**](#nb)\n",
    "    + [**3b. Units taught per semester**](#nbsem)\n",
    "    + [**3c. Total teaching load**](#nbtot)"
   ]
  },
  {
   "cell_type": "code",
   "execution_count": null,
   "metadata": {},
   "outputs": [],
   "source": [
    "import pandas as pd\n",
    "import numpy as np\n",
    "\n",
    "import seaborn as sns\n",
    "import networkx as nx\n",
    "import matplotlib.pyplot as plt\n",
    "\n",
    "from matplotlib.pyplot import pie, axis, show\n",
    "from IPython.display import display, HTML\n",
    "\n",
    "%matplotlib inline\n",
    "%config InlineBackend.figure_format = 'svg'\n",
    "plt.rcParams['mathtext.fontset'] = 'cm'"
   ]
  },
  {
   "cell_type": "markdown",
   "metadata": {},
   "source": [
    "# 1. Load dataset <a id='load'></a>\n",
    "\n",
    "We first load the different files created with the following notebooks:\n",
    "\n",
    "+ [**Listing Staff**](listingStaff.ipynb)\n",
    "+ [**Listing Units**](listingUnits.ipynb)"
   ]
  },
  {
   "cell_type": "code",
   "execution_count": null,
   "metadata": {},
   "outputs": [],
   "source": [
    "# Staff file:\n",
    "staff = pd.read_pickle('staff')\n",
    "\n",
    "# Unit description files:\n",
    "unitsS1 = pd.read_pickle('unitsS1')\n",
    "unitsS2 = pd.read_pickle('unitsS2')\n",
    "unitsOLE = pd.read_pickle('unitsOLE')\n",
    "unitsHonors = pd.read_pickle('unitsHonors')"
   ]
  },
  {
   "cell_type": "markdown",
   "metadata": {},
   "source": [
    "# 2. Individual staff <a id='def'></a>\n",
    "\n",
    "The first function called **`getStaff`** plot for a teaching staff `name`, the different units of study he/she is involved in over the year. \n",
    "\n",
    "The function plots the staff load in 2 tables:\n",
    "\n",
    "1. the first one shows the **number of units taught over the semesters**\n",
    "2. the second shows the **load for each unit taught**"
   ]
  },
  {
   "cell_type": "code",
   "execution_count": null,
   "metadata": {},
   "outputs": [],
   "source": [
    "def getStaff(name=None, plot=True, staff=staff, unitsS1=unitsS1, unitsS2=unitsS2,\n",
    "             unitsOLE=unitsOLE, unitsHonors=unitsHonors):\n",
    "    '''\n",
    "    This function returns individual teaching staff allocations over the considered year \n",
    "    '''\n",
    "    viewstaff = staff[staff['name']==name]\n",
    "    listunits = viewstaff['units'].values[0]\n",
    "    listperc = viewstaff['perc'].values[0]\n",
    "    position = viewstaff['position'].values[0]\n",
    "    \n",
    "    sumload = 0.\n",
    "    staffdata = pd.DataFrame(columns=['name','position','code','lvl','load','weight',\n",
    "                                      'cumload','semester','coordinator'])\n",
    "    for k in range(len(listunits)):\n",
    "        if len(unitsS1[unitsS1['code']==listunits[k]])>0:\n",
    "            dd = unitsS1[unitsS1['code']==listunits[k]]\n",
    "            listsemester = 'S.1'\n",
    "        \n",
    "        if len(unitsS2[unitsS2['code']==listunits[k]])>0:\n",
    "            dd = unitsS2[unitsS2['code']==listunits[k]]\n",
    "            listsemester = 'S.2'    \n",
    "\n",
    "        if len(unitsOLE[unitsOLE['code']==listunits[k]])>0:\n",
    "            dd = unitsOLE[unitsOLE['code']==listunits[k]]\n",
    "            listsemester = 'OLE'\n",
    "\n",
    "#         if len(unitsHonors[unitsHonors['code']==listunits[k]])>0:\n",
    "#             dd = unitsHonors[unitsHonors['code']==listunits[k]]\n",
    "#             listsemester = 'Hon'\n",
    "\n",
    "        listlevel = dd['level'].values[0]\n",
    "        listcoordinator = dd['coordinator'].values[0]\n",
    "        sumload += (listperc[k]*dd['load'].values[0]/100.)/100.\n",
    "        weight = (listperc[k]*dd['load'].values[0]/100.)/100.\n",
    "        staffdata = staffdata.append({'name':name,'position':position,'code':listunits[k], \n",
    "                                      'lvl': listlevel,'load': listperc[k],'weight':weight,\n",
    "                                      'cumload':sumload,'semester':listsemester,\n",
    "                                      'coordinator':listcoordinator}, \n",
    "                                      ignore_index=True)\n",
    "    if plot:\n",
    "        fig, ax = plt.subplots(figsize=(6,4), ncols=2, nrows=1,\n",
    "                               gridspec_kw = {'width_ratios':[2, 5]})\n",
    "        g0 = sns.countplot(x='semester', data=staffdata, ax=ax[0], palette='Blues')\n",
    "        g0.set_xticklabels(g0.get_xticklabels(),rotation=30)\n",
    "        sns.despine()\n",
    "\n",
    "        g1 = sns.barplot(x='code', y='load', data=staffdata, \n",
    "                         ax=ax[1], palette='RdBu_r')\n",
    "        g1.set_xticklabels(g1.get_xticklabels(),rotation=30)\n",
    "        plt.show()\n",
    "    \n",
    "    return staffdata"
   ]
  },
  {
   "cell_type": "markdown",
   "metadata": {},
   "source": [
    "Example of **`getStaff`** usage:"
   ]
  },
  {
   "cell_type": "code",
   "execution_count": null,
   "metadata": {},
   "outputs": [],
   "source": [
    "name = 'Bruce'\n",
    "df = getStaff(name)"
   ]
  },
  {
   "cell_type": "markdown",
   "metadata": {},
   "source": [
    "A second function **`plotStaffGraph`** is defined to plot for the chosen staff its teaching load in a _network graph_... "
   ]
  },
  {
   "cell_type": "code",
   "execution_count": null,
   "metadata": {},
   "outputs": [],
   "source": [
    "def plotStaffGraph(df=None, name=None):\n",
    "    '''\n",
    "    Plotting for individual staff the teaching load in a network graph\n",
    "    '''\n",
    "    G = nx.from_pandas_edgelist(df, 'name', 'code', ['weight'])\n",
    "    pos = nx.circular_layout(G)\n",
    "\n",
    "    edges = G.edges()\n",
    "    weights = [G[u][v]['weight']*5. for u,v in edges]\n",
    "\n",
    "    plt.figure(1,figsize=(7,4)) \n",
    "    \n",
    "    nx.draw_networkx_nodes(G,pos,\n",
    "                           node_color='k',\n",
    "                           node_size=4200)\n",
    "    \n",
    "    nx.draw_networkx_nodes(G,pos,\n",
    "                           node_color='#A0CBE2',\n",
    "                           node_size=4000)\n",
    "    \n",
    "    nx.draw_networkx_nodes(G,pos,nodelist=[name],\n",
    "                           node_color='k',\n",
    "                           node_size=5200)\n",
    "    \n",
    "    nx.draw_networkx_nodes(G,pos,nodelist=[name],\n",
    "                           node_color='r',\n",
    "                           node_size=5000)\n",
    "\n",
    "    labels = nx.get_edge_attributes(G,'weight')\n",
    "\n",
    "    nx.draw_networkx_edges(G,pos,\n",
    "            width=weights, edge_cmap=plt.cm.Blues, with_labels=True)\n",
    "    nx.draw_networkx_edge_labels(G,pos,edge_labels=labels)\n",
    "    nx.draw_networkx_labels(G,pos,font_size=11)\n",
    "    plt.ylim(-1.5,1.5)\n",
    "    plt.axis('off')\n",
    "    plt.tight_layout()\n",
    "    plt.show()\n",
    "\n",
    "    return"
   ]
  },
  {
   "cell_type": "markdown",
   "metadata": {},
   "source": [
    "Example of **`plotStaffGraph`** usage, note that the thickness of the connecting lines are proportional to the teaching load..."
   ]
  },
  {
   "cell_type": "code",
   "execution_count": null,
   "metadata": {},
   "outputs": [],
   "source": [
    "plotStaffGraph(df, name)"
   ]
  },
  {
   "cell_type": "markdown",
   "metadata": {},
   "source": [
    "Other example, showing also an _HTML display_ of the staff allocation table..."
   ]
  },
  {
   "cell_type": "code",
   "execution_count": null,
   "metadata": {
    "scrolled": false
   },
   "outputs": [],
   "source": [
    "name = 'Rey'\n",
    "df = getStaff(name,plot=True)\n",
    "display(HTML(df.to_html()))\n",
    "plotStaffGraph(df,name)"
   ]
  },
  {
   "cell_type": "markdown",
   "metadata": {},
   "source": [
    "# 3. All staff <a id='all'></a>\n",
    "\n",
    "We know create a **`pandas dataframe`** containing the _total number of units_ and their associated _weights_ for all staff.\n",
    "\n",
    "This `dataframe` is called **`allstaff`**"
   ]
  },
  {
   "cell_type": "code",
   "execution_count": null,
   "metadata": {},
   "outputs": [],
   "source": [
    "allstaff = pd.DataFrame(columns=['name','unit','weight'])\n",
    "\n",
    "for k in range(len(staff)):\n",
    "    name = staff['name'][k]\n",
    "    df = getStaff(name, plot=False)\n",
    "    for p in range(len(df)):\n",
    "        allstaff = allstaff.append({'name':df['name'][p],'position':df['position'][p],'unit':df['semester'][p],\n",
    "                                'weight':df['weight'][p]},ignore_index=True)"
   ]
  },
  {
   "cell_type": "markdown",
   "metadata": {},
   "source": [
    "We can visualise the content of **`allstaff`** with the following line:"
   ]
  },
  {
   "cell_type": "code",
   "execution_count": null,
   "metadata": {
    "scrolled": false
   },
   "outputs": [],
   "source": [
    "# Uncomment next line by deleting the # in front...\n",
    "#display(HTML(allstaff.to_html()))"
   ]
  },
  {
   "cell_type": "markdown",
   "metadata": {},
   "source": [
    "## 3a. Units per year <a id='nb'></a>\n",
    "\n",
    "We now plot for all staff the number of UoS that are taught over the year..."
   ]
  },
  {
   "cell_type": "code",
   "execution_count": null,
   "metadata": {},
   "outputs": [],
   "source": [
    "ax = allstaff.groupby('unit')['name'].value_counts().unstack(0).plot.bar(stacked=True, width=0.7, \n",
    "                                                                    colormap='Set3', figsize=(10,4))\n",
    "plt.legend(loc='center left', bbox_to_anchor=(1.0, 0.8))\n",
    "ax.set_xlabel(\"Teaching staff\")\n",
    "ax.set_ylabel(\"Number of UoS\")\n",
    "plt.show()"
   ]
  },
  {
   "cell_type": "markdown",
   "metadata": {},
   "source": [
    "Another interesting plot can be done like **permanent versus contracted teaching staff**..."
   ]
  },
  {
   "cell_type": "code",
   "execution_count": null,
   "metadata": {},
   "outputs": [],
   "source": [
    "permanents = allstaff[allstaff['position']=='Permanent']\n",
    "others = allstaff[allstaff['position']=='Other']\n",
    "\n",
    "ax = permanents.groupby('unit')['name'].value_counts().unstack(0).plot.bar(stacked=True, width=0.7, \n",
    "                                                                    colormap='Set2', figsize=(8,4))\n",
    "plt.legend(loc='center left', bbox_to_anchor=(1.0, 0.8))\n",
    "ax.set_xlabel(\"Permanent Academics\")\n",
    "ax.set_ylabel(\"Number of UoS\")\n",
    "plt.show()\n",
    "\n",
    "ax = others.groupby('unit')['name'].value_counts().unstack(0).plot.bar(stacked=True, width=0.7, \n",
    "                                                                    colormap='Set2', figsize=(4,4))\n",
    "plt.legend(loc='center left', bbox_to_anchor=(1.0, 0.8))\n",
    "ax.set_xlabel(\"Others Academics\")\n",
    "ax.set_ylabel(\"Number of UoS\")\n",
    "plt.show()"
   ]
  },
  {
   "cell_type": "markdown",
   "metadata": {},
   "source": [
    "## 3b. Load per semester <a id='nbsem'></a>\n",
    "\n",
    "\n",
    "### Semester 1:\n",
    "\n",
    "We can also add a **5% load for coordination of a UoS** as shown in the next cell..."
   ]
  },
  {
   "cell_type": "code",
   "execution_count": null,
   "metadata": {},
   "outputs": [],
   "source": [
    "unitsS1['coordload'] = unitsS1['load']*0.05\n",
    "\n",
    "tmp = unitsS1.groupby( [\"coordinator\"],as_index=False).agg({\"coordload\": \"sum\"})\n",
    "\n",
    "coordload = tmp.groupby([\"coordinator\"],as_index=False).agg({\"coordload\": \"sum\"})\n",
    "coordload['coordload'] = coordload['coordload']/100.\n",
    "coordload = coordload.rename(columns = {'coordinator':'name','coordload':'weight'})"
   ]
  },
  {
   "cell_type": "markdown",
   "metadata": {},
   "source": [
    "It comes to the following loads for the coordinators of units in **semester 1**"
   ]
  },
  {
   "cell_type": "code",
   "execution_count": null,
   "metadata": {},
   "outputs": [],
   "source": [
    "colors = np.zeros((40,4))\n",
    "colors[:20] =  plt.cm.tab20b(np.arange(20))\n",
    "colors[20:] =  plt.cm.tab20c(np.arange(20))\n",
    "\n",
    "totcoord = coordload.groupby(['name'])['weight'].sum()\n",
    "ax = totcoord.sort_values(ascending=True).plot.bar(figsize=(8,5),legend=False, width=0.7, color=colors)\n",
    "ax.set_xlabel(\"Teaching staff\")\n",
    "ax.set_ylabel(\"Coordination load\")\n",
    "plt.show()"
   ]
  },
  {
   "cell_type": "code",
   "execution_count": null,
   "metadata": {},
   "outputs": [],
   "source": [
    "# Uncomment next line by deleting the # in front...\n",
    "#display(HTML(unitsS1.to_html()))"
   ]
  },
  {
   "cell_type": "markdown",
   "metadata": {},
   "source": [
    "We now extract the staff teaching in semester 1, note that OLEs and Honours are not considered in this calculation..."
   ]
  },
  {
   "cell_type": "code",
   "execution_count": null,
   "metadata": {},
   "outputs": [],
   "source": [
    "staffS1 = pd.DataFrame(columns=['name','unit','weight'])\n",
    "\n",
    "for k in range(len(staff)):\n",
    "    name = staff['name'][k]\n",
    "    df = getStaff(name, plot=False)\n",
    "    for p in range(len(df)):\n",
    "        if df['semester'][p] == 'S.1':\n",
    "            staffS1 = staffS1.append({'name':df['name'][p],'position':df['position'][p],'unit':df['semester'][p],\n",
    "                                    'weight':df['weight'][p]},ignore_index=True)"
   ]
  },
  {
   "cell_type": "code",
   "execution_count": null,
   "metadata": {},
   "outputs": [],
   "source": [
    "# Uncomment next line by deleting the # in front...\n",
    "#display(HTML(staffS1.to_html()))"
   ]
  },
  {
   "cell_type": "markdown",
   "metadata": {},
   "source": [
    "We now add to the teaching load the coordination load which will give us the **total load**!"
   ]
  },
  {
   "cell_type": "code",
   "execution_count": null,
   "metadata": {},
   "outputs": [],
   "source": [
    "teachingload = staffS1.groupby(['name'],as_index=False).agg({\"weight\": \"sum\"})\n",
    "teachingload = teachingload.append(coordload,ignore_index=True)\n",
    "totload = teachingload.groupby(['name'])['weight'].sum()"
   ]
  },
  {
   "cell_type": "markdown",
   "metadata": {},
   "source": [
    "And we plot our results:"
   ]
  },
  {
   "cell_type": "code",
   "execution_count": null,
   "metadata": {},
   "outputs": [],
   "source": [
    "#ax = totload.plot.bar(figsize=(10,5),legend=False, width=0.7, color=colors)\n",
    "#ax.set_xlabel(\"Teaching staff for semester 1\")\n",
    "#ax.set_ylabel(\"Total load\")\n",
    "#plt.show()\n",
    "\n",
    "ax = totload.sort_values(ascending=True).plot.bar(figsize=(10,5),legend=False, width=0.7, color=colors)\n",
    "ax.set_xlabel(\"Teaching staff for semester 1\")\n",
    "ax.set_ylabel(\"Total load\")\n",
    "plt.show()"
   ]
  },
  {
   "cell_type": "markdown",
   "metadata": {},
   "source": [
    "If we want to plot the staff load without the coordination load we can do it this way:"
   ]
  },
  {
   "cell_type": "code",
   "execution_count": null,
   "metadata": {},
   "outputs": [],
   "source": [
    "all_load = staffS1.groupby(['name'],as_index=False).agg({\"weight\": \"sum\"})\n",
    "acadload = all_load.groupby(['name'])['weight'].sum()\n",
    "\n",
    "ax = acadload.sort_values(ascending=True).plot.bar(figsize=(10,5),legend=False, width=0.7, color=colors)\n",
    "ax.set_xlabel(\"All academic staff for semester 1\")\n",
    "ax.set_ylabel(\"Teaching load\")\n",
    "plt.show()"
   ]
  },
  {
   "cell_type": "markdown",
   "metadata": {},
   "source": [
    "### Semester 2:\n",
    "\n",
    "This is the same thing as above..."
   ]
  },
  {
   "cell_type": "code",
   "execution_count": null,
   "metadata": {},
   "outputs": [],
   "source": [
    "unitsS2['coordload'] = unitsS2['load']*0.05\n",
    "\n",
    "tmp = unitsS2.groupby( [\"coordinator\"],as_index=False).agg({\"coordload\": \"sum\"})\n",
    "\n",
    "coordload = tmp.groupby([\"coordinator\"],as_index=False).agg({\"coordload\": \"sum\"})\n",
    "coordload['coordload'] = coordload['coordload']/100.\n",
    "coordload = coordload.rename(columns = {'coordinator':'name','coordload':'weight'})"
   ]
  },
  {
   "cell_type": "code",
   "execution_count": null,
   "metadata": {},
   "outputs": [],
   "source": [
    "colors = np.zeros((40,4))\n",
    "colors[:20] =  plt.cm.tab20b(np.arange(20))\n",
    "colors[20:] =  plt.cm.tab20c(np.arange(20))\n",
    "\n",
    "totcoord = coordload.groupby(['name'])['weight'].sum()\n",
    "ax = totcoord.sort_values(ascending=True).plot.bar(figsize=(8,5),legend=False, width=0.7, color=colors)\n",
    "ax.set_xlabel(\"Teaching staff\")\n",
    "ax.set_ylabel(\"Coordination load\")\n",
    "plt.show()"
   ]
  },
  {
   "cell_type": "code",
   "execution_count": null,
   "metadata": {},
   "outputs": [],
   "source": [
    "staffS2 = pd.DataFrame(columns=['name','unit','weight'])\n",
    "\n",
    "for k in range(len(staff)):\n",
    "    name = staff['name'][k]\n",
    "    df = getStaff(name, plot=False)\n",
    "    for p in range(len(df)):\n",
    "        if df['semester'][p] == 'S.2':\n",
    "            staffS2 = staffS2.append({'name':df['name'][p],'position':df['position'][p],'unit':df['semester'][p],\n",
    "                                    'weight':df['weight'][p]},ignore_index=True)\n",
    "            \n",
    "teachingload = staffS2.groupby(['name'],as_index=False).agg({\"weight\": \"sum\"})\n",
    "teachingload = teachingload.append(coordload,ignore_index=True)\n",
    "totload = teachingload.groupby(['name'])['weight'].sum()\n",
    "\n",
    "ax = totload.sort_values(ascending=True).plot.bar(figsize=(10,5),legend=False, width=0.7, color=colors)\n",
    "ax.set_xlabel(\"Teaching staff for semester 2\")\n",
    "ax.set_ylabel(\"Total load\")\n",
    "plt.show()"
   ]
  },
  {
   "cell_type": "markdown",
   "metadata": {},
   "source": [
    "## 3c. Total staff teaching load <a id='nbtot'></a>\n",
    "\n",
    "\n",
    "#### Adding load for coordination"
   ]
  },
  {
   "cell_type": "code",
   "execution_count": null,
   "metadata": {},
   "outputs": [],
   "source": [
    "unitsS1['coordload'] = unitsS1['load']*0.05\n",
    "unitsS2['coordload'] = unitsS2['load']*0.05\n",
    "unitsOLE['coordload'] = unitsOLE['load']*0.05\n",
    "unitsHonors['coordload'] = unitsHonors['load']*0.05\n",
    "\n",
    "tmp1 = unitsS1.groupby([\"coordinator\"],as_index=False).agg({\"coordload\": \"sum\"})\n",
    "tmp2 = unitsS2.groupby( [\"coordinator\"],as_index=False).agg({\"coordload\": \"sum\"})\n",
    "tmp1 = tmp1.append(tmp2,ignore_index=True)\n",
    "tmp2 = unitsOLE.groupby( [\"coordinator\"],as_index=False).agg({\"coordload\": \"sum\"})\n",
    "tmp1 = tmp1.append(tmp2,ignore_index=True)\n",
    "tmp2 = unitsHonors.groupby( [\"coordinator\"],as_index=False).agg({\"coordload\": \"sum\"})\n",
    "tmp1 = tmp1.append(tmp2,ignore_index=True)\n",
    "\n",
    "coordload = tmp1.groupby([\"coordinator\"],as_index=False).agg({\"coordload\": \"sum\"})\n",
    "coordload['coordload'] = coordload['coordload']/100.\n",
    "coordload = coordload.rename(columns = {'coordinator':'name','coordload':'weight'})"
   ]
  },
  {
   "cell_type": "code",
   "execution_count": null,
   "metadata": {},
   "outputs": [],
   "source": [
    "colors = np.zeros((40,4))\n",
    "colors[:20] =  plt.cm.tab20b(np.arange(20))\n",
    "colors[20:] =  plt.cm.tab20c(np.arange(20))\n",
    "\n",
    "totcoord = coordload.groupby(['name'])['weight'].sum()\n",
    "ax = totcoord.sort_values(ascending=True).plot.bar(figsize=(8,5),legend=False, width=0.7, color=colors)\n",
    "ax.set_xlabel(\"Teaching staff\")\n",
    "ax.set_ylabel(\"Coordination load\")\n",
    "plt.show()"
   ]
  },
  {
   "cell_type": "markdown",
   "metadata": {},
   "source": [
    "Then we can plot the total teaching load for all staff..."
   ]
  },
  {
   "cell_type": "code",
   "execution_count": null,
   "metadata": {},
   "outputs": [],
   "source": [
    "teachingload = allstaff.groupby(['name'],as_index=False).agg({\"weight\": \"sum\"})\n",
    "teachingload = teachingload.append(coordload,ignore_index=True)\n",
    "totload = teachingload.groupby(['name'])['weight'].sum()\n",
    "\n",
    "#ax = totload.plot.bar(figsize=(10,5),legend=False, width=0.7, color=colors)\n",
    "#ax.set_xlabel(\"Teaching staff\")\n",
    "#ax.set_ylabel(\"Total load\")\n",
    "#plt.show()\n",
    "\n",
    "ax = totload.sort_values(ascending=True).plot.bar(figsize=(10,5),legend=False, width=0.7, color=colors)\n",
    "ax.set_xlabel(\"Teaching staff\")\n",
    "ax.set_ylabel(\"Total load\")\n",
    "plt.show()"
   ]
  },
  {
   "cell_type": "markdown",
   "metadata": {},
   "source": [
    "Or for **full teaching academics** only"
   ]
  },
  {
   "cell_type": "code",
   "execution_count": null,
   "metadata": {},
   "outputs": [],
   "source": [
    "academicload = permanents.groupby(['name'],as_index=False).agg({\"weight\": \"sum\"})\n",
    "acadload = academicload.groupby(['name'])['weight'].sum()\n",
    "\n",
    "ax = acadload.sort_values(ascending=True).plot.bar(figsize=(10,5),legend=False, width=0.7, color=colors)\n",
    "ax.set_xlabel(\"Full teaching academic staff\")\n",
    "ax.set_ylabel(\"Total load\")\n",
    "plt.show()"
   ]
  },
  {
   "cell_type": "markdown",
   "metadata": {},
   "source": [
    "Or for the others..."
   ]
  },
  {
   "cell_type": "code",
   "execution_count": null,
   "metadata": {},
   "outputs": [],
   "source": [
    "othersload = others.groupby(['name'],as_index=False).agg({\"weight\": \"sum\"})\n",
    "othload = othersload.groupby(['name'])['weight'].sum()\n",
    "\n",
    "ax = othload.sort_values(ascending=True).plot.bar(figsize=(6,5),legend=False, width=0.7, color=colors)\n",
    "ax.set_xlabel(\"Teaching academic staff\")\n",
    "ax.set_ylabel(\"Total load\")\n",
    "plt.show()"
   ]
  },
  {
   "cell_type": "code",
   "execution_count": null,
   "metadata": {},
   "outputs": [],
   "source": []
  }
 ],
 "metadata": {
  "kernelspec": {
   "display_name": "Python 2",
   "language": "python",
   "name": "python2"
  },
  "language_info": {
   "codemirror_mode": {
    "name": "ipython",
    "version": 2
   },
   "file_extension": ".py",
   "mimetype": "text/x-python",
   "name": "python",
   "nbconvert_exporter": "python",
   "pygments_lexer": "ipython2",
   "version": "2.7.12"
  }
 },
 "nbformat": 4,
 "nbformat_minor": 2
}
