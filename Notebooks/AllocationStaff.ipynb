{
 "cells": [
  {
   "cell_type": "code",
   "execution_count": null,
   "metadata": {},
   "outputs": [],
   "source": [
    "import pandas as pd\n",
    "import numpy as np\n",
    "\n",
    "import seaborn as sns\n",
    "import networkx as nx\n",
    "import matplotlib.pyplot as plt\n",
    "\n",
    "from matplotlib.pyplot import pie, axis, show\n",
    "from IPython.display import display, HTML\n",
    "\n",
    "%matplotlib inline\n",
    "%config InlineBackend.figure_format = 'svg'\n",
    "plt.rcParams['mathtext.fontset'] = 'cm'"
   ]
  },
  {
   "cell_type": "markdown",
   "metadata": {},
   "source": [
    "# Load dataset"
   ]
  },
  {
   "cell_type": "code",
   "execution_count": null,
   "metadata": {},
   "outputs": [],
   "source": [
    "staff = pd.read_pickle('staff')\n",
    "unitsS1 = pd.read_pickle('unitsS1')\n",
    "unitsS2 = pd.read_pickle('unitsS2')\n",
    "unitsOLE = pd.read_pickle('unitsOLE')\n",
    "unitsHonors = pd.read_pickle('unitsHonors')"
   ]
  },
  {
   "cell_type": "code",
   "execution_count": null,
   "metadata": {},
   "outputs": [],
   "source": []
  },
  {
   "cell_type": "markdown",
   "metadata": {},
   "source": [
    "# Definitions"
   ]
  },
  {
   "cell_type": "code",
   "execution_count": null,
   "metadata": {},
   "outputs": [],
   "source": [
    "def getStaff(name=None,plot=False,staff=staff,unitsS1=unitsS1,unitsS2=unitsS2,\n",
    "             unitsOLE=unitsOLE,unitsHonors=unitsHonors):\n",
    "    \n",
    "    viewstaff = staff[staff['name']==name]\n",
    "    listunits = viewstaff['units'].values[0]\n",
    "    listperc = viewstaff['perc'].values[0]\n",
    "    position = viewstaff['position'].values[0]\n",
    "    \n",
    "    sumload = 0.\n",
    "    staffdata = pd.DataFrame(columns=['name','position','code','lvl','load','weight',\n",
    "                                      'cumload','semester','coordinator'])\n",
    "    for k in range(len(listunits)):\n",
    "        if len(unitsS1[unitsS1['code']==listunits[k]])>0:\n",
    "#         if len(unitsS1[unitsS1['code'].str.contains(pat = listunits[k])])>0: #==listunits[k]])>0:\n",
    "            dd = unitsS1[unitsS1['code']==listunits[k]]\n",
    "            listsemester = 'S.1'\n",
    "        \n",
    "        if len(unitsS2[unitsS2['code']==listunits[k]])>0:\n",
    "            dd = unitsS2[unitsS2['code']==listunits[k]]\n",
    "            listsemester = 'S.2'    \n",
    "\n",
    "        if len(unitsOLE[unitsOLE['code']==listunits[k]])>0:\n",
    "            dd = unitsOLE[unitsOLE['code']==listunits[k]]\n",
    "            listsemester = 'OLE'\n",
    "\n",
    "#         if len(unitsHonors[unitsHonors['code']==listunits[k]])>0:\n",
    "#             dd = unitsHonors[unitsHonors['code']==listunits[k]]\n",
    "#             listsemester = 'Hon'\n",
    "\n",
    "        listlevel = dd['level'].values[0]\n",
    "        listcoordinator = dd['coordinator'].values[0]\n",
    "        sumload += (listperc[k]*dd['load'].values[0]/100.)/100.\n",
    "        weight = (listperc[k]*dd['load'].values[0]/100.)/100.\n",
    "        staffdata = staffdata.append({'name':name,'position':position,'code':listunits[k], \n",
    "                                      'lvl': listlevel,'load': listperc[k],'weight':weight,\n",
    "                                      'cumload':sumload,'semester':listsemester,\n",
    "                                      'coordinator':listcoordinator}, \n",
    "                                      ignore_index=True)\n",
    "    if plot:\n",
    "        fig, ax = plt.subplots(figsize=(6,4), ncols=2, nrows=1,\n",
    "                               gridspec_kw = {'width_ratios':[2, 5]})\n",
    "        g0 = sns.countplot(x='semester', data=staffdata, ax=ax[0], palette='Blues')\n",
    "        g0.set_xticklabels(g0.get_xticklabels(),rotation=30)\n",
    "        sns.despine()\n",
    "\n",
    "        g1 = sns.barplot(x='code', y='load', data=staffdata, \n",
    "                         ax=ax[1], palette='RdBu_r')\n",
    "        g1.set_xticklabels(g1.get_xticklabels(),rotation=30)\n",
    "        plt.show()\n",
    "    \n",
    "    return staffdata"
   ]
  },
  {
   "cell_type": "code",
   "execution_count": null,
   "metadata": {},
   "outputs": [],
   "source": [
    "def plotStaffGraph(df=None,name=None):\n",
    "    \n",
    "    G = nx.from_pandas_edgelist(df, 'name', 'code', ['weight'])\n",
    "    pos = nx.circular_layout(G)\n",
    "\n",
    "    edges = G.edges()\n",
    "    weights = [G[u][v]['weight']*5. for u,v in edges]\n",
    "\n",
    "    plt.figure(1,figsize=(7,4)) \n",
    "    \n",
    "    nx.draw_networkx_nodes(G,pos,\n",
    "                           node_color='k',\n",
    "                           node_size=4200)\n",
    "    \n",
    "    nx.draw_networkx_nodes(G,pos,\n",
    "                           node_color='#A0CBE2',\n",
    "                           node_size=4000)\n",
    "    \n",
    "    nx.draw_networkx_nodes(G,pos,nodelist=[name],\n",
    "                           node_color='k',\n",
    "                           node_size=5200)\n",
    "    \n",
    "    nx.draw_networkx_nodes(G,pos,nodelist=[name],\n",
    "                           node_color='r',\n",
    "                           node_size=5000)\n",
    "\n",
    "    labels = nx.get_edge_attributes(G,'weight')\n",
    "\n",
    "    nx.draw_networkx_edges(G,pos,\n",
    "            width=weights, edge_cmap=plt.cm.Blues, with_labels=True)\n",
    "    nx.draw_networkx_edge_labels(G,pos,edge_labels=labels)\n",
    "    nx.draw_networkx_labels(G,pos,font_size=11)\n",
    "    plt.ylim(-1.5,1.5)\n",
    "    plt.axis('off')\n",
    "    plt.tight_layout()\n",
    "    plt.show()\n",
    "\n",
    "    return"
   ]
  },
  {
   "cell_type": "markdown",
   "metadata": {},
   "source": [
    "# Single staff allocation"
   ]
  },
  {
   "cell_type": "code",
   "execution_count": null,
   "metadata": {
    "scrolled": false
   },
   "outputs": [],
   "source": [
    "name = 'Bruce'\n",
    "df = getStaff(name,plot=True)\n",
    "display(HTML(df.to_html()))\n",
    "plotStaffGraph(df,name)"
   ]
  },
  {
   "cell_type": "code",
   "execution_count": null,
   "metadata": {},
   "outputs": [],
   "source": [
    "name = 'Vila-Concejo'\n",
    "df = getStaff(name,plot=True)\n",
    "display(HTML(df.to_html()))\n",
    "plotStaffGraph(df,name)"
   ]
  },
  {
   "cell_type": "markdown",
   "metadata": {},
   "source": [
    "# All staff load"
   ]
  },
  {
   "cell_type": "code",
   "execution_count": null,
   "metadata": {},
   "outputs": [],
   "source": [
    "allstaff = pd.DataFrame(columns=['name','unit','weight'])\n",
    "for k in range(len(staff)):\n",
    "    name = staff['name'][k]\n",
    "    df = getStaff(name,plot=False)\n",
    "    for p in range(len(df)):\n",
    "        allstaff = allstaff.append({'name':df['name'][p],'position':df['position'][p],'unit':df['semester'][p],\n",
    "                                'weight':df['weight'][p]},ignore_index=True)\n",
    "#display(HTML(allstaff.to_html()))"
   ]
  },
  {
   "cell_type": "code",
   "execution_count": null,
   "metadata": {},
   "outputs": [],
   "source": [
    "allstaff"
   ]
  },
  {
   "cell_type": "markdown",
   "metadata": {},
   "source": [
    "## Number of units taught over the year"
   ]
  },
  {
   "cell_type": "code",
   "execution_count": null,
   "metadata": {},
   "outputs": [],
   "source": [
    "ax = allstaff.groupby('unit')['name'].value_counts().unstack(0).plot.bar(stacked=True, width=0.7, \n",
    "                                                                    colormap='Set3', figsize=(10,4))\n",
    "plt.legend(loc='center left', bbox_to_anchor=(1.0, 0.8))\n",
    "ax.set_xlabel(\"Teaching staff\")\n",
    "ax.set_ylabel(\"Number of UoS\")\n",
    "plt.show()"
   ]
  },
  {
   "cell_type": "markdown",
   "metadata": {},
   "source": [
    "Permanent versus contracted teaching"
   ]
  },
  {
   "cell_type": "code",
   "execution_count": null,
   "metadata": {},
   "outputs": [],
   "source": [
    "permanents = allstaff[allstaff['position']=='Permanent']\n",
    "others = allstaff[allstaff['position']=='Other']\n",
    "\n",
    "ax = permanents.groupby('unit')['name'].value_counts().unstack(0).plot.bar(stacked=True, width=0.7, \n",
    "                                                                    colormap='Set2', figsize=(8,4))\n",
    "plt.legend(loc='center left', bbox_to_anchor=(1.0, 0.8))\n",
    "ax.set_xlabel(\"Permanent Academics\")\n",
    "ax.set_ylabel(\"Number of UoS\")\n",
    "plt.show()\n",
    "\n",
    "ax = others.groupby('unit')['name'].value_counts().unstack(0).plot.bar(stacked=True, width=0.7, \n",
    "                                                                    colormap='Set2', figsize=(4,4))\n",
    "plt.legend(loc='center left', bbox_to_anchor=(1.0, 0.8))\n",
    "ax.set_xlabel(\"Others Academics\")\n",
    "ax.set_ylabel(\"Number of UoS\")\n",
    "plt.show()"
   ]
  },
  {
   "cell_type": "markdown",
   "metadata": {},
   "source": [
    "### Semester 1:"
   ]
  },
  {
   "cell_type": "code",
   "execution_count": null,
   "metadata": {},
   "outputs": [],
   "source": [
    "unitsS1['coordload'] = unitsS1['load']*0.05\n",
    "\n",
    "tmp = unitsS1.groupby( [\"coordinator\"],as_index=False).agg({\"coordload\": \"sum\"})\n",
    "\n",
    "coordload = tmp.groupby([\"coordinator\"],as_index=False).agg({\"coordload\": \"sum\"})\n",
    "coordload['coordload'] = coordload['coordload']/100.\n",
    "coordload = coordload.rename(columns = {'coordinator':'name','coordload':'weight'})"
   ]
  },
  {
   "cell_type": "code",
   "execution_count": null,
   "metadata": {},
   "outputs": [],
   "source": [
    "colors = np.zeros((40,4))\n",
    "colors[:20] =  plt.cm.tab20b(np.arange(20))\n",
    "colors[20:] =  plt.cm.tab20c(np.arange(20))\n",
    "\n",
    "totcoord = coordload.groupby(['name'])['weight'].sum()\n",
    "ax = totcoord.sort_values(ascending=True).plot.bar(figsize=(8,5),legend=False, width=0.7, color=colors)\n",
    "ax.set_xlabel(\"Teaching staff\")\n",
    "ax.set_ylabel(\"Coordination load\")\n",
    "plt.show()"
   ]
  },
  {
   "cell_type": "code",
   "execution_count": null,
   "metadata": {},
   "outputs": [],
   "source": [
    "unitsS1"
   ]
  },
  {
   "cell_type": "code",
   "execution_count": null,
   "metadata": {},
   "outputs": [],
   "source": [
    "academicload = permanents.groupby(['name'],as_index=False).agg({\"weight\": \"sum\"})\n",
    "acadload = academicload.groupby(['name'])['weight'].sum()\n",
    "\n",
    "ax = acadload.sort_values(ascending=True).plot.bar(figsize=(10,5),legend=False, width=0.7, color=colors)\n",
    "ax.set_xlabel(\"Teaching academic staff\")\n",
    "ax.set_ylabel(\"Total load\")\n",
    "plt.show()"
   ]
  },
  {
   "cell_type": "markdown",
   "metadata": {},
   "source": [
    "### Semester 2:"
   ]
  },
  {
   "cell_type": "code",
   "execution_count": null,
   "metadata": {},
   "outputs": [],
   "source": [
    "unitsS2['coordload'] = unitsS2['load']*0.05\n",
    "\n",
    "tmp = unitsS2.groupby( [\"coordinator\"],as_index=False).agg({\"coordload\": \"sum\"})\n",
    "\n",
    "coordload = tmp.groupby([\"coordinator\"],as_index=False).agg({\"coordload\": \"sum\"})\n",
    "coordload['coordload'] = coordload['coordload']/100.\n",
    "coordload = coordload.rename(columns = {'coordinator':'name','coordload':'weight'})"
   ]
  },
  {
   "cell_type": "code",
   "execution_count": null,
   "metadata": {},
   "outputs": [],
   "source": [
    "colors = np.zeros((40,4))\n",
    "colors[:20] =  plt.cm.tab20b(np.arange(20))\n",
    "colors[20:] =  plt.cm.tab20c(np.arange(20))\n",
    "\n",
    "totcoord = coordload.groupby(['name'])['weight'].sum()\n",
    "ax = totcoord.sort_values(ascending=True).plot.bar(figsize=(8,5),legend=False, width=0.7, color=colors)\n",
    "ax.set_xlabel(\"Teaching staff\")\n",
    "ax.set_ylabel(\"Coordination load\")\n",
    "plt.show()"
   ]
  },
  {
   "cell_type": "code",
   "execution_count": null,
   "metadata": {},
   "outputs": [],
   "source": [
    "# teachingload = semester2.groupby(['name'],as_index=False).agg({\"weight\": \"sum\"})\n",
    "# teachingload = teachingload.append(coordload,ignore_index=True)\n",
    "# totload = teachingload.groupby(['name'])['weight'].sum()\n",
    "\n",
    "# ax = totload.plot.bar(figsize=(10,5),legend=False, width=0.7, color=colors)\n",
    "# ax.set_xlabel(\"Teaching staff\")\n",
    "# ax.set_ylabel(\"Total load\")\n",
    "# plt.show()\n",
    "\n",
    "# ax = totload.sort_values(ascending=True).plot.bar(figsize=(10,5),legend=False, width=0.7, color=colors)\n",
    "# ax.set_xlabel(\"Teaching staff\")\n",
    "# ax.set_ylabel(\"Total load\")\n",
    "# plt.show()"
   ]
  },
  {
   "cell_type": "code",
   "execution_count": null,
   "metadata": {},
   "outputs": [],
   "source": [
    "academicload = permanents.groupby(['name'],as_index=False).agg({\"weight\": \"sum\"})\n",
    "acadload = academicload.groupby(['name'])['weight'].sum()\n",
    "\n",
    "ax = acadload.sort_values(ascending=True).plot.bar(figsize=(10,5),legend=False, width=0.7, color=colors)\n",
    "ax.set_xlabel(\"Teaching academic staff\")\n",
    "ax.set_ylabel(\"Total load\")\n",
    "plt.show()"
   ]
  },
  {
   "cell_type": "code",
   "execution_count": null,
   "metadata": {},
   "outputs": [],
   "source": [
    "othersload = others.groupby(['name'],as_index=False).agg({\"weight\": \"sum\"})\n",
    "othload = othersload.groupby(['name'])['weight'].sum()\n",
    "\n",
    "ax = othload.sort_values(ascending=True).plot.bar(figsize=(6,5),legend=False, width=0.7, color=colors)\n",
    "ax.set_xlabel(\"Teaching contracted staff\")\n",
    "ax.set_ylabel(\"Total load\")\n",
    "plt.show()"
   ]
  },
  {
   "cell_type": "markdown",
   "metadata": {},
   "source": [
    "## Add load for coordination"
   ]
  },
  {
   "cell_type": "code",
   "execution_count": null,
   "metadata": {},
   "outputs": [],
   "source": [
    "unitsS1['coordload'] = unitsS1['load']*0.05\n",
    "unitsS2['coordload'] = unitsS2['load']*0.05\n",
    "unitsOLE['coordload'] = unitsOLE['load']*0.05\n",
    "unitsHonors['coordload'] = unitsHonors['load']*0.05\n",
    "\n",
    "tmp1 = unitsS1.groupby([\"coordinator\"],as_index=False).agg({\"coordload\": \"sum\"})\n",
    "tmp2 = unitsS2.groupby( [\"coordinator\"],as_index=False).agg({\"coordload\": \"sum\"})\n",
    "tmp1 = tmp1.append(tmp2,ignore_index=True)\n",
    "tmp2 = unitsOLE.groupby( [\"coordinator\"],as_index=False).agg({\"coordload\": \"sum\"})\n",
    "tmp1 = tmp1.append(tmp2,ignore_index=True)\n",
    "tmp2 = unitsHonors.groupby( [\"coordinator\"],as_index=False).agg({\"coordload\": \"sum\"})\n",
    "tmp1 = tmp1.append(tmp2,ignore_index=True)\n",
    "\n",
    "coordload = tmp1.groupby([\"coordinator\"],as_index=False).agg({\"coordload\": \"sum\"})\n",
    "coordload['coordload'] = coordload['coordload']/100.\n",
    "coordload = coordload.rename(columns = {'coordinator':'name','coordload':'weight'})"
   ]
  },
  {
   "cell_type": "code",
   "execution_count": null,
   "metadata": {},
   "outputs": [],
   "source": [
    "colors = np.zeros((40,4))\n",
    "colors[:20] =  plt.cm.tab20b(np.arange(20))\n",
    "colors[20:] =  plt.cm.tab20c(np.arange(20))\n",
    "\n",
    "totcoord = coordload.groupby(['name'])['weight'].sum()\n",
    "ax = totcoord.sort_values(ascending=True).plot.bar(figsize=(8,5),legend=False, width=0.7, color=colors)\n",
    "ax.set_xlabel(\"Teaching staff\")\n",
    "ax.set_ylabel(\"Coordination load\")\n",
    "plt.show()"
   ]
  },
  {
   "cell_type": "markdown",
   "metadata": {},
   "source": [
    "## Total staff teaching load\n",
    "\n",
    "### All staff"
   ]
  },
  {
   "cell_type": "code",
   "execution_count": null,
   "metadata": {},
   "outputs": [],
   "source": [
    "teachingload = allstaff.groupby(['name'],as_index=False).agg({\"weight\": \"sum\"})\n",
    "teachingload = teachingload.append(coordload,ignore_index=True)\n",
    "totload = teachingload.groupby(['name'])['weight'].sum()\n",
    "\n",
    "ax = totload.plot.bar(figsize=(10,5),legend=False, width=0.7, color=colors)\n",
    "ax.set_xlabel(\"Teaching staff\")\n",
    "ax.set_ylabel(\"Total load\")\n",
    "plt.show()\n",
    "\n",
    "ax = totload.sort_values(ascending=True).plot.bar(figsize=(10,5),legend=False, width=0.7, color=colors)\n",
    "ax.set_xlabel(\"Teaching staff\")\n",
    "ax.set_ylabel(\"Total load\")\n",
    "plt.show()"
   ]
  },
  {
   "cell_type": "markdown",
   "metadata": {},
   "source": [
    "### Permanent academics"
   ]
  },
  {
   "cell_type": "code",
   "execution_count": null,
   "metadata": {},
   "outputs": [],
   "source": [
    "academicload = permanents.groupby(['name'],as_index=False).agg({\"weight\": \"sum\"})\n",
    "acadload = academicload.groupby(['name'])['weight'].sum()\n",
    "\n",
    "ax = acadload.sort_values(ascending=True).plot.bar(figsize=(10,5),legend=False, width=0.7, color=colors)\n",
    "ax.set_xlabel(\"Teaching academic staff\")\n",
    "ax.set_ylabel(\"Total load\")\n",
    "plt.show()"
   ]
  },
  {
   "cell_type": "markdown",
   "metadata": {},
   "source": [
    "### Contracted academics"
   ]
  },
  {
   "cell_type": "code",
   "execution_count": null,
   "metadata": {},
   "outputs": [],
   "source": [
    "othersload = others.groupby(['name'],as_index=False).agg({\"weight\": \"sum\"})\n",
    "othload = othersload.groupby(['name'])['weight'].sum()\n",
    "\n",
    "ax = othload.sort_values(ascending=True).plot.bar(figsize=(6,5),legend=False, width=0.7, color=colors)\n",
    "ax.set_xlabel(\"Teaching academic staff\")\n",
    "ax.set_ylabel(\"Total load\")\n",
    "plt.show()"
   ]
  },
  {
   "cell_type": "code",
   "execution_count": null,
   "metadata": {},
   "outputs": [],
   "source": []
  },
  {
   "cell_type": "code",
   "execution_count": null,
   "metadata": {},
   "outputs": [],
   "source": []
  },
  {
   "cell_type": "code",
   "execution_count": null,
   "metadata": {},
   "outputs": [],
   "source": []
  },
  {
   "cell_type": "code",
   "execution_count": null,
   "metadata": {},
   "outputs": [],
   "source": []
  }
 ],
 "metadata": {
  "kernelspec": {
   "display_name": "Python 2",
   "language": "python",
   "name": "python2"
  },
  "language_info": {
   "codemirror_mode": {
    "name": "ipython",
    "version": 2
   },
   "file_extension": ".py",
   "mimetype": "text/x-python",
   "name": "python",
   "nbconvert_exporter": "python",
   "pygments_lexer": "ipython2",
   "version": "2.7.12"
  }
 },
 "nbformat": 4,
 "nbformat_minor": 2
}
