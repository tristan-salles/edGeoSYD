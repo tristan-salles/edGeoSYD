{
 "cells": [
  {
   "cell_type": "markdown",
   "metadata": {},
   "source": [
    "# Teaching allocation for the School of Geosciences USYD"
   ]
  },
  {
   "cell_type": "markdown",
   "metadata": {},
   "source": [
    "## Dependencies\n",
    "\n",
    "You will need **Python 3.5+**. Also, the following packages are required:\n",
    "\n",
    " - [`numpy`](http://numpy.org)\n",
    " - [`scipy`](https://scipy.org)\n",
    " - [`pandas`](https://pandas.pydata.org/)\n",
    " - [`networkx`](https://networkx.github.io) \n",
    " - [`seaborn`](https://seaborn.pydata.org)"
   ]
  },
  {
   "cell_type": "markdown",
   "metadata": {},
   "source": [
    "## Navigation/Notebooks\n",
    "\n",
    "There are four notebooks available to calculate teaching allocation for the School.\n",
    "\n",
    "### A- Listing staff and units\n",
    "\n",
    "#### [1- Listing Staff](listingStaff.ipynb)\n",
    "\n",
    "This notebook defines for each staff the unit codes taught and the corresponding teaching percentage. \n",
    "\n",
    "#### [2- Listing Units](listingUnits.ipynb)\n",
    "\n",
    "This notebook defines all the units taught by the School (OLEs - Honours courses - first to third year units - masters...)\n",
    "\n",
    "### B- Staff and units allocation\n",
    "\n",
    "#### [3- Staff allocation](AllocationStaff.ipynb)\n",
    "\n",
    "In this file we compute the individual teaching allocation as well as the complete teaching for all staff through the year. \n",
    "\n",
    "#### [4- Units allocation](AllocationUnits.ipynb)\n",
    "\n",
    "This notebook is used to check the units that are fully allocated and provide an overview of the different UoSs proposed by the School and their associated teaching load..."
   ]
  },
  {
   "cell_type": "markdown",
   "metadata": {},
   "source": [
    "## Examples\n",
    "\n",
    "![Examples](https://github.com/tristan-salles/edGeoSYD/blob/master/Notebooks/image/example.png?raw=true)"
   ]
  },
  {
   "cell_type": "code",
   "execution_count": null,
   "metadata": {},
   "outputs": [],
   "source": []
  }
 ],
 "metadata": {
  "kernelspec": {
   "display_name": "Python 2",
   "language": "python",
   "name": "python2"
  },
  "language_info": {
   "codemirror_mode": {
    "name": "ipython",
    "version": 2
   },
   "file_extension": ".py",
   "mimetype": "text/x-python",
   "name": "python",
   "nbconvert_exporter": "python",
   "pygments_lexer": "ipython2",
   "version": "2.7.12"
  }
 },
 "nbformat": 4,
 "nbformat_minor": 2
}
